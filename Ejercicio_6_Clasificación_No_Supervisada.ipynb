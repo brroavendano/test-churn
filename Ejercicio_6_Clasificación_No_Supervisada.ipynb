{
  "nbformat": 4,
  "nbformat_minor": 0,
  "metadata": {
    "kernelspec": {
      "display_name": "R",
      "language": "R",
      "name": "ir"
    },
    "language_info": {
      "codemirror_mode": "r",
      "file_extension": ".r",
      "mimetype": "text/x-r-source",
      "name": "R",
      "pygments_lexer": "r",
      "version": "3.3.1"
    },
    "colab": {
      "name": "Ejercicio 6 - Clasificación No-Supervisada",
      "provenance": [],
      "collapsed_sections": [],
      "toc_visible": true,
      "include_colab_link": true
    }
  },
  "cells": [
    {
      "cell_type": "markdown",
      "metadata": {
        "id": "view-in-github",
        "colab_type": "text"
      },
      "source": [
        "<a href=\"https://colab.research.google.com/github/brroavendano/test-churn/blob/main/Ejercicio_6_Clasificaci%C3%B3n_No_Supervisada.ipynb\" target=\"_parent\"><img src=\"https://colab.research.google.com/assets/colab-badge.svg\" alt=\"Open In Colab\"/></a>"
      ]
    },
    {
      "cell_type": "markdown",
      "metadata": {
        "id": "BhFF63rsMfbI"
      },
      "source": [
        "# Ejercicio 6 - Clasificación No-Supervisada\n",
        "\n",
        "Esta actividad propone trabajar con clasificación no-supervisada o clustering sobre un dataset de información de un censo con diferentes atributos. En particular. \n",
        "\n",
        "## Contexto: Análisis de éxito en campaña de marketing\n",
        "\n",
        "Fuente: https://archive.ics.uci.edu/ml/datasets/Bank+Marketing\n",
        "\n",
        "El foco está en la implementación de una red neuronal para clasificación y la comparación de su desempeño con otro modelo de clasificación para predicir el valor de un atributo, desde un *dataset* de información de un resultados de personas contactadas por una campaña de marketing y que compraron la oferta (atributo \"OK\"), con cerca de 41.200 registros de personas contactadas.\n",
        "\n",
        "Este conjunto de datos (abierto para este tipo de usos instruccionales), consiste en 20 atributos y 1 clase de etiquetas (totalizando 21 columnas) y corresponde a los datos de una campaña telefónica a diversos clientes en Portugal, ofreciéndoles la compra de un producto bancario. En varios casos, un cliente fue contactado varias veces antes de aceptar el el depósito a plazo ofrecido por la campaña (OK = yes). \n",
        "\n",
        "Algunos de los atributos relevantes son (combinando atributos categóricos, con numéricos):\n",
        "* **Datos personales**: Edad, Ocupación, Estado Civil, Nivel de Educación.\n",
        "* **Datos financieros**: Su casa tiene crédito hipotecario, default: si el crédito ha caído en quiebra; tiene un crédito de consumo.\n",
        "* **Datos de contactos de la campaña actual**: Tipo de Comunicación (celular o teléfono fijo); Mes del último contacto; Día de la semana del contacto; duración de la llamada (segundos); Contacto: N° de contactos durante la campaña; DíasAtrás: días transcurridos desde último contacto; Resultado: resultado de la última llamada (falló, no-existe, éxito)\n",
        "* **Datos socioeconómicos**: EmpTasaVar: tasa de variación de empleabilidad; IPC: índice de precios consumidor mensual; ICC: índice de confianza consumidor mensual; Euribor3m: tasa euribor de 3 meses indicador diario; NumEmpleados: cantidad de gente empleada, en indicador trimestral. \n",
        "\n",
        "Esta adaptación en particular, por el equipo de R:Solver (RSolver.com), enfrenta diferentes objetivos de aprendizaje dentro de los cursos de Big Data y Machine Learning.\n",
        "\n",
        "\n",
        "**INSTRUCCIONES IMPORTANTES**\n",
        "1.   Todos los alumnos, ya sea en grupo, o individualmente (si no tienen compañeros), deben contestar las preguntas que se indican en las secciones de \"Ejercicio\", más adelante.\n",
        "3.   **Se tiene hasta la fecha tope acordada para enviar el email a nombre del grupo.**\n",
        "\n",
        "El formato del email es:\n",
        "\n",
        "To: rsandova@ing.puc.cl\n",
        "\n",
        "Subject: Ejercicio Clustering aaaammdd\n",
        "\n",
        "Integrantes: (nombres apellidos en orden alfabético)\n",
        "\n",
        "Respuestas: puede ser parte del cuerpo del email o en un archivo PDF separado\n",
        "\n",
        "...\n",
        "\n",
        "---\n",
        "\n",
        "\n"
      ]
    },
    {
      "cell_type": "markdown",
      "metadata": {
        "id": "nbsvny1wYwsT"
      },
      "source": [
        "## Actividad Complementaria: Instalar librerías de modelos de clasificación y herramientas"
      ]
    },
    {
      "cell_type": "code",
      "metadata": {
        "id": "Yr8D6ajXY2T9",
        "outputId": "1f85fffa-accf-4e6b-97cc-cf3c7e8444e9",
        "colab": {
          "base_uri": "https://localhost:8080/"
        }
      },
      "source": [
        "install.packages('e1071')\n",
        "install.packages('caret')\n",
        "install.packages('caTools')\n",
        "install.packages('corrplot')\n",
        "install.packages('fpc')\n",
        "install.packages('cluster')\n",
        "install.packages('dbscan')"
      ],
      "execution_count": null,
      "outputs": [
        {
          "metadata": {
            "tags": null
          },
          "name": "stderr",
          "output_type": "stream",
          "text": [
            "Installing package into ‘/usr/local/lib/R/site-library’\n",
            "(as ‘lib’ is unspecified)\n",
            "\n",
            "Installing package into ‘/usr/local/lib/R/site-library’\n",
            "(as ‘lib’ is unspecified)\n",
            "\n",
            "Warning message in install.packages(\"caret\"):\n",
            "“installation of package ‘caret’ had non-zero exit status”\n",
            "Installing package into ‘/usr/local/lib/R/site-library’\n",
            "(as ‘lib’ is unspecified)\n",
            "\n",
            "Installing package into ‘/usr/local/lib/R/site-library’\n",
            "(as ‘lib’ is unspecified)\n",
            "\n",
            "Installing package into ‘/usr/local/lib/R/site-library’\n",
            "(as ‘lib’ is unspecified)\n",
            "\n",
            "Installing package into ‘/usr/local/lib/R/site-library’\n",
            "(as ‘lib’ is unspecified)\n",
            "\n",
            "Installing package into ‘/usr/local/lib/R/site-library’\n",
            "(as ‘lib’ is unspecified)\n",
            "\n"
          ]
        }
      ]
    },
    {
      "cell_type": "markdown",
      "metadata": {
        "id": "0q3bYb0RM5bx"
      },
      "source": [
        "## Actividad Complementaria: Carga de los datos y preprocesamiento\n",
        "\n",
        "La siguiente celda de código carga los datos desde la URL de origen y luego muestra un encabezado con las primeras filas del dataset, para demostrar la disponibilidad de los datos. Nótese que esta versión de los datos está adaptada a trabajar mayormente con valores numéricos."
      ]
    },
    {
      "cell_type": "code",
      "metadata": {
        "id": "yIIKPnj-IRE8"
      },
      "source": [
        "# Se declara la URL de dónde obtener los datos\n",
        "theUrlMain <- \"http://www.rsolver.com/dcc/docs/bank-additional-full-numbers.csv\"\n",
        "\n",
        "# Se declaran los nombres de las columnas\n",
        "columnas = c(\"Edad\",\"Ocupación\",\"EstadoCivil\",\"Educación\",\"Default\",\"Hipotecario\",\"Consumo\",\"Contacto\",\"Mes\",\"Día\",\n",
        "             \"Duración\",\"NumContactos\",\"DíasAtrás\",\"Previo\",\"ResultadoPrevio\", \"EmpTasaVar\", \"IPC\", \"ICC\", \"Euribor3m\", \"NumEmpleados\", \"OK\")\n",
        "\n",
        "# Se cargan datos principales a una estructura (marketing.data), asignando nombres de atributos a las columnas\n",
        "marketing.data <- read.table(file = theUrlMain, header = TRUE, sep = \";\", col.names = columnas, na.strings = c(\"unknown\",\"NA\"))\n",
        "\n",
        "# Se eliminan los registros que tienen algún NA (unknown)\n",
        "marketing.data <- na.omit(marketing.data) # Sólo quedan poco más de 30.000 filas (de las 41.000 originales)\n",
        "\n",
        "summary(marketing.data)\n"
      ],
      "execution_count": null,
      "outputs": []
    },
    {
      "cell_type": "markdown",
      "metadata": {
        "id": "ebI0lgP0kq3_"
      },
      "source": [
        "## Complemento: visualización de la correlación entre algunas de las variables\n",
        "\n",
        "En el siguiente segmento de código se usa la librería corrplot para visualizar correlaciones sólo entre los atributos numéricos del dataset, que puede ayudar a determinar cuál es de ellos serían los ideales de usar en la ejecución de HDBSCAN, más adelante."
      ]
    },
    {
      "cell_type": "code",
      "metadata": {
        "id": "d3ZwM5wyvUGL"
      },
      "source": [
        "library(\"corrplot\")\n",
        "\n",
        "# referencia: https://cran.r-project.org/web/packages/dbscan/vignettes/hdbscan.html\n",
        "# En este caso sólo se correlacionan las variables numéricas\n",
        "cor <- cor(marketing.data[c(1, 5:7, 11:14, 16:20)])\n",
        "corrplot(cor, method = \"pie\", type =\"upper\")"
      ],
      "execution_count": null,
      "outputs": []
    },
    {
      "cell_type": "markdown",
      "metadata": {
        "id": "hNZTzsheq3TD"
      },
      "source": [
        "## Ejercicio: Realizar una buena segmentación e interpretar resultados\n",
        "\n",
        "El objetivo de ejecutar una segmentación o clustering es determinar automáticamente los conjuntos que contienen individuos con características similares. En el contexto del caso de análisis (clientes de campaña marketing de banco) se vuelve interesante producir una segmentación con pocos clústers, para -eventualmente- facilitar el análisis de cada clúster en forma individual. Por ello, se define que el resultado esperado es de entre 4 y 15 clústers, incluyendo el grupo de los \"ruidosos\" (*noise*) y que los conjuntos (salvo el de los ruidosos) sean relativamente balanceados.\n",
        "\n",
        "Entonces, a continuación se tienen las líneas de código que generan una primera segmentación, la cual hay que refinar, buscando dos objetivos:\n",
        "\n",
        "**OBJETIVO 1 (4 puntos)**\n",
        "\n",
        "Buscar una configuración del proceso que encuentre clústers que mejor segmentan los datos.\n",
        "\n",
        "Esto plantea ir probando combinaciones de:\n",
        "\n",
        "-     Cuáles tres atributos del total de atributos son los que logran producir los mejores(*) conjuntos finales. Se propone correr el modelo con tríos de atributos para ver cuál logra mejores resultados. (Pueden usar como referencia la información que entrega el plot de correlación anterior, para acotar las posibles combinaciones)\n",
        "-     El valor del parámetro minPts del algoritmo HDBSCAN. Se propone probar valores: 5, 10, 50, 100.\n",
        "\n",
        "(*) Se define los mejores conjuntos finales como:\n",
        "\n",
        "-    Los grupos o clusters son relativamente balanceados en cantidad de elementos (ningún clúster tiene más del 30% del total de datos).\n",
        "-    La cantidad de puntos de ruido (*noise*) no es más que un 10% del total de puntos.\n",
        "\n",
        "**OBJETIVO 2 (2 puntos)**\n",
        "\n",
        "Describir las características de los clusters en relación a los valores de sus atributos más comunes o promediados. La idea es poder obtener una interpretación más clara de qué caracteriza a cada uno de los clusters.\n",
        "\n",
        "Esta interpretación puede perfectamente ser una declaración verbal de la siguiente forma:\n",
        "\n",
        "\"Los clusters resultantes evidencian un balance, donde sólo hay un único cluster dominante, aunque no tiene más del 30% de los elementos, lo que se interpreta como que ese cluster representa a los clientes más representativos en sus atributos en general. Del gráfico ClusPlot se puede apreciar una cierta uniformidad entre los datos de los respectivos clusters. ... \"\n",
        "\n",
        "Finalmente, se espera que los alumnos puedan aprovechar estas (y/u otras) herramientas gráficas para realizar una interpretación general del resultado del proceso de clustering. \n"
      ]
    },
    {
      "cell_type": "code",
      "metadata": {
        "id": "Aegn7XFvrEU1"
      },
      "source": [
        "library (dbscan)\n",
        "\n",
        "# Ejercicio 1: determinar los atributos (elegir 3, además de OK) que mejor agrupen los datos de los clientes.\n",
        "# Como ejemplo se usa la Edad, Consumo, NumEmpleados.\n",
        "# Además elegir el valor de minPts que logre la cantidad esperada de clústers.\n",
        "dataForClustering <- data.frame(marketing.data$Edad, marketing.data$Consumo, marketing.data$NumEmpleados, marketing.data$OK)\n",
        "\n",
        "# Ejecución de HDBSCAN (en este ejercicio toma menos de 30 seg)\n",
        "clustering <- hdbscan(dataForClustering, minPts = 50)\n",
        "summary(clustering)  # Muestra resumen, para avisar que terminó de ejecutar"
      ],
      "execution_count": null,
      "outputs": []
    },
    {
      "cell_type": "code",
      "metadata": {
        "id": "5X3A4-wIjirU"
      },
      "source": [
        "# Ejercicio 2: Visualización y Análisis\n",
        "# Se presentan alternativas básicas de visualización, esperando que los alumnos las utilicen (y/u otras)\n",
        "# para concluir una explicación razonable y adecuada del resultado.\n",
        "\n",
        "# 1) Mostrar el resultado del clustering en forma de texto descriptivo\n",
        "# Nota: el dataset \"clustering\" tiene columnas: cluster, minPts, cluster_scores, membership_prob, outliers_scores, hc\n",
        "clustering\n",
        "\n",
        "# 2) Usar el PLOT de Jerarquía para mostrar el Árbol HDBSCAN\n",
        "# Referencia: https://cran.r-project.org/web/packages/dbscan/vignettes/hdbscan.html\n",
        "plot(clustering, col=clustering$cluster+1, pch=20, show_flat = T, scale=5)\n",
        "points(dataForClustering, pch=20)\n",
        "\n",
        "# 3) Cluster Plot por los mejores 2 principal components\n",
        "library(cluster)\n",
        "clusplot(dataForClustering, clustering$cluster, color=TRUE, shade=TRUE, labels=2, lines=0)\n",
        "\n",
        "# 4) Centroid Plot \n",
        "library(fpc)\n",
        "plotcluster(dataForClustering, clustering$cluster)\n"
      ],
      "execution_count": null,
      "outputs": []
    }
  ]
}